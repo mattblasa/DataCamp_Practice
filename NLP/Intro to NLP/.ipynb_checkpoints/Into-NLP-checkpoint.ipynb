{
 "cells": [
  {
   "cell_type": "code",
   "execution_count": 2,
   "metadata": {},
   "outputs": [],
   "source": [
    "import pandas as pd \n",
    "import numpy as np \n",
    "import seaborn as sns \n",
    "import matplotlib.pyplot as plt \n",
    "%matplotlib inline\n",
    "import re"
   ]
  },
  {
   "cell_type": "markdown",
   "metadata": {},
   "source": [
    "# Regular Expressions and Word Tokenization"
   ]
  },
  {
   "cell_type": "code",
   "execution_count": 3,
   "metadata": {},
   "outputs": [],
   "source": [
    "test_string = \"Tokugawa Ieyasu was the founder and first shogun of the Tokugawa shogunate of Japan, which ruled Japan from 1603 until the Meiji Restoration in 1868. He was one of the three 'Great Unifiers' of Japan, along with his former lord Oda Nobunaga and Toyotomi Hideyoshi.\""
   ]
  },
  {
   "cell_type": "code",
   "execution_count": 4,
   "metadata": {},
   "outputs": [],
   "source": [
    "sentence_endings = r\"[.,?!]\""
   ]
  },
  {
   "cell_type": "markdown",
   "metadata": {},
   "source": [
    "This splits up the sentence based on the punctuation contained in sentence endings. In this case, primarily the commas and the periods have been split. "
   ]
  },
  {
   "cell_type": "code",
   "execution_count": 5,
   "metadata": {},
   "outputs": [
    {
     "name": "stdout",
     "output_type": "stream",
     "text": [
      "['Tokugawa Ieyasu was the founder and first shogun of the Tokugawa shogunate of Japan', ' which ruled Japan from 1603 until the Meiji Restoration in 1868', \" He was one of the three 'Great Unifiers' of Japan\", ' along with his former lord Oda Nobunaga and Toyotomi Hideyoshi', '']\n"
     ]
    }
   ],
   "source": [
    "print(re.split(sentence_endings, test_string))"
   ]
  },
  {
   "cell_type": "code",
   "execution_count": 6,
   "metadata": {},
   "outputs": [
    {
     "name": "stdout",
     "output_type": "stream",
     "text": [
      "['Tokugawa', 'Ieyasu', 'Tokugawa', 'Japan', 'Japan', 'Meiji', 'Restoration', 'He', 'Great', 'Unifiers', 'Japan', 'Oda', 'Nobunaga', 'Toyotomi', 'Hideyoshi']\n"
     ]
    }
   ],
   "source": [
    "#Find all capitalized words, and print result \n",
    "\n",
    "#captialized A-Z, \n",
    "capitalized_words = r\"[A-Z]\\w+\" #\\w+ means look for words\n",
    "print(re.findall(capitalized_words, test_string))"
   ]
  },
  {
   "cell_type": "markdown",
   "metadata": {},
   "source": [
    "The find all in this case, finds only the proper names of the three unifiers. The exception being the 'He' at the beginning of a sentence. Useful case here, could be for proper nouns in english. "
   ]
  },
  {
   "cell_type": "code",
   "execution_count": 7,
   "metadata": {},
   "outputs": [
    {
     "name": "stdout",
     "output_type": "stream",
     "text": [
      "['1603', '1868']\n"
     ]
    }
   ],
   "source": [
    "digits = r\"\\d+\"\n",
    "print(re.findall(digits, test_string))"
   ]
  },
  {
   "cell_type": "markdown",
   "metadata": {},
   "source": [
    "This splits it based off only string numbers that exist within the document. In this case, it only gets the dates of beginning and end of the Tokugawa Shogunate"
   ]
  },
  {
   "cell_type": "markdown",
   "metadata": {},
   "source": [
    "## Tokenization"
   ]
  },
  {
   "cell_type": "code",
   "execution_count": 8,
   "metadata": {},
   "outputs": [],
   "source": [
    "from nltk.tokenize import sent_tokenize\n",
    "from nltk.tokenize import word_tokenize \n",
    "import nltk\n"
   ]
  },
  {
   "cell_type": "code",
   "execution_count": 9,
   "metadata": {},
   "outputs": [
    {
     "name": "stderr",
     "output_type": "stream",
     "text": [
      "[nltk_data] Downloading package punkt to\n",
      "[nltk_data]     C:\\Users\\blasa\\AppData\\Roaming\\nltk_data...\n",
      "[nltk_data]   Package punkt is already up-to-date!\n"
     ]
    },
    {
     "data": {
      "text/plain": [
       "True"
      ]
     },
     "execution_count": 9,
     "metadata": {},
     "output_type": "execute_result"
    }
   ],
   "source": [
    "nltk.download('punkt')"
   ]
  },
  {
   "cell_type": "code",
   "execution_count": 10,
   "metadata": {},
   "outputs": [],
   "source": [
    "sent = sent_tokenize(test_string)"
   ]
  },
  {
   "cell_type": "code",
   "execution_count": 11,
   "metadata": {},
   "outputs": [
    {
     "data": {
      "text/plain": [
       "['Tokugawa Ieyasu was the founder and first shogun of the Tokugawa shogunate of Japan, which ruled Japan from 1603 until the Meiji Restoration in 1868.',\n",
       " \"He was one of the three 'Great Unifiers' of Japan, along with his former lord Oda Nobunaga and Toyotomi Hideyoshi.\"]"
      ]
     },
     "execution_count": 11,
     "metadata": {},
     "output_type": "execute_result"
    }
   ],
   "source": [
    "sent"
   ]
  },
  {
   "cell_type": "markdown",
   "metadata": {},
   "source": [
    "Sent_tokenize method breaks a string up by sentences"
   ]
  },
  {
   "cell_type": "code",
   "execution_count": 12,
   "metadata": {},
   "outputs": [],
   "source": [
    "tokenized_sent = word_tokenize(sent[1])"
   ]
  },
  {
   "cell_type": "code",
   "execution_count": 13,
   "metadata": {},
   "outputs": [
    {
     "data": {
      "text/plain": [
       "['He',\n",
       " 'was',\n",
       " 'one',\n",
       " 'of',\n",
       " 'the',\n",
       " 'three',\n",
       " \"'Great\",\n",
       " 'Unifiers',\n",
       " \"'\",\n",
       " 'of',\n",
       " 'Japan',\n",
       " ',',\n",
       " 'along',\n",
       " 'with',\n",
       " 'his',\n",
       " 'former',\n",
       " 'lord',\n",
       " 'Oda',\n",
       " 'Nobunaga',\n",
       " 'and',\n",
       " 'Toyotomi',\n",
       " 'Hideyoshi',\n",
       " '.']"
      ]
     },
     "execution_count": 13,
     "metadata": {},
     "output_type": "execute_result"
    }
   ],
   "source": [
    "tokenized_sent"
   ]
  },
  {
   "cell_type": "markdown",
   "metadata": {},
   "source": [
    "Breaks down the 2nd sentence of the test string into word parts"
   ]
  },
  {
   "cell_type": "code",
   "execution_count": 14,
   "metadata": {},
   "outputs": [],
   "source": [
    "unique_tokens = set(word_tokenize(test_string))"
   ]
  },
  {
   "cell_type": "markdown",
   "metadata": {},
   "source": [
    "unique_tokens"
   ]
  },
  {
   "cell_type": "markdown",
   "metadata": {},
   "source": [
    "Selects unique words within a string"
   ]
  },
  {
   "cell_type": "markdown",
   "metadata": {},
   "source": [
    "## Finding Specific Tokens, Using REGEX Patterns"
   ]
  },
  {
   "cell_type": "code",
   "execution_count": 15,
   "metadata": {},
   "outputs": [],
   "source": [
    "match = re.search('Tokugawa', test_string)"
   ]
  },
  {
   "cell_type": "code",
   "execution_count": 16,
   "metadata": {},
   "outputs": [
    {
     "data": {
      "text/plain": [
       "0"
      ]
     },
     "execution_count": 16,
     "metadata": {},
     "output_type": "execute_result"
    }
   ],
   "source": [
    "match.start()"
   ]
  },
  {
   "cell_type": "code",
   "execution_count": 17,
   "metadata": {},
   "outputs": [
    {
     "data": {
      "text/plain": [
       "8"
      ]
     },
     "execution_count": 17,
     "metadata": {},
     "output_type": "execute_result"
    }
   ],
   "source": [
    "match.end()"
   ]
  },
  {
   "cell_type": "markdown",
   "metadata": {},
   "source": [
    "Finds the index position of searched word"
   ]
  },
  {
   "cell_type": "markdown",
   "metadata": {},
   "source": [
    "### Regex Pattern"
   ]
  },
  {
   "cell_type": "code",
   "execution_count": 18,
   "metadata": {},
   "outputs": [],
   "source": [
    "pat1 = r\"\\[.*\\]\""
   ]
  },
  {
   "cell_type": "code",
   "execution_count": 19,
   "metadata": {},
   "outputs": [],
   "source": [
    "search = re.search(pat1, test_string)"
   ]
  },
  {
   "cell_type": "code",
   "execution_count": 20,
   "metadata": {},
   "outputs": [],
   "source": [
    "search"
   ]
  },
  {
   "cell_type": "markdown",
   "metadata": {},
   "source": [
    "Looks for any text inside of []"
   ]
  },
  {
   "cell_type": "code",
   "execution_count": 21,
   "metadata": {},
   "outputs": [],
   "source": [
    "pattern2 = r\"([A-Z])\\w+\""
   ]
  },
  {
   "cell_type": "code",
   "execution_count": 22,
   "metadata": {},
   "outputs": [],
   "source": [
    "s = re.match(pattern2, sent[0])"
   ]
  },
  {
   "cell_type": "code",
   "execution_count": 23,
   "metadata": {},
   "outputs": [
    {
     "data": {
      "text/plain": [
       "<re.Match object; span=(0, 8), match='Tokugawa'>"
      ]
     },
     "execution_count": 23,
     "metadata": {},
     "output_type": "execute_result"
    }
   ],
   "source": [
    "s"
   ]
  },
  {
   "cell_type": "markdown",
   "metadata": {},
   "source": [
    "# Tweet Tokenizer"
   ]
  },
  {
   "cell_type": "markdown",
   "metadata": {},
   "source": [
    "## Pattern 1"
   ]
  },
  {
   "cell_type": "code",
   "execution_count": 24,
   "metadata": {},
   "outputs": [],
   "source": [
    "from nltk.tokenize import regexp_tokenize \n",
    "from nltk.tokenize import TweetTokenizer"
   ]
  },
  {
   "cell_type": "code",
   "execution_count": 25,
   "metadata": {},
   "outputs": [],
   "source": [
    "# this REGEX looks for anywords that follow a hashtag, regardless of length \n",
    "pattern1 = r\"#\\w+\" "
   ]
  },
  {
   "cell_type": "code",
   "execution_count": 26,
   "metadata": {},
   "outputs": [],
   "source": [
    "tweets = ['This is the best #nlp exercise ive found online! #python',\n",
    " '#NLP is super fun! <3 #learning',\n",
    " 'Thanks @datacamp :) #nlp #python']"
   ]
  },
  {
   "cell_type": "code",
   "execution_count": 27,
   "metadata": {},
   "outputs": [],
   "source": [
    "hashtags = regexp_tokenize(tweets[0], pattern1)"
   ]
  },
  {
   "cell_type": "code",
   "execution_count": 28,
   "metadata": {},
   "outputs": [
    {
     "data": {
      "text/plain": [
       "['#nlp', '#python']"
      ]
     },
     "execution_count": 28,
     "metadata": {},
     "output_type": "execute_result"
    }
   ],
   "source": [
    "hashtags"
   ]
  },
  {
   "cell_type": "code",
   "execution_count": 29,
   "metadata": {},
   "outputs": [
    {
     "data": {
      "text/plain": [
       "['#NLP', '#learning']"
      ]
     },
     "execution_count": 29,
     "metadata": {},
     "output_type": "execute_result"
    }
   ],
   "source": [
    " regexp_tokenize(tweets[1], pattern1)"
   ]
  },
  {
   "cell_type": "markdown",
   "metadata": {},
   "source": [
    "Tweets in the tweets section have been previously tokenized. To extract out the hashtags, you have to tokenenize the tweets first. Or at least get them into an array. "
   ]
  },
  {
   "cell_type": "markdown",
   "metadata": {},
   "source": [
    "## Pattern 2 "
   ]
  },
  {
   "cell_type": "code",
   "execution_count": 30,
   "metadata": {},
   "outputs": [],
   "source": [
    "# This REGEX finds any word that has begins with @ or #, regardless of length \n",
    "pattern2 = r\"([@#]\\w+)\""
   ]
  },
  {
   "cell_type": "code",
   "execution_count": 31,
   "metadata": {},
   "outputs": [
    {
     "name": "stdout",
     "output_type": "stream",
     "text": [
      "['@datacamp', '#nlp', '#python']\n"
     ]
    }
   ],
   "source": [
    "mentions_hashtags = regexp_tokenize(tweets[-1], pattern2)\n",
    "print(mentions_hashtags)"
   ]
  },
  {
   "cell_type": "code",
   "execution_count": 32,
   "metadata": {},
   "outputs": [
    {
     "data": {
      "text/plain": [
       "'Thanks @datacamp :) #nlp #python'"
      ]
     },
     "execution_count": 32,
     "metadata": {},
     "output_type": "execute_result"
    }
   ],
   "source": [
    "#selects tweets from the right. \n",
    "tweets[-1] "
   ]
  },
  {
   "cell_type": "code",
   "execution_count": 33,
   "metadata": {},
   "outputs": [],
   "source": [
    "from nltk.tokenize import regexp_tokenize\n",
    "from nltk.tokenize import TweetTokenizer"
   ]
  },
  {
   "cell_type": "code",
   "execution_count": 34,
   "metadata": {},
   "outputs": [],
   "source": [
    "tknzr = TweetTokenizer()"
   ]
  },
  {
   "cell_type": "code",
   "execution_count": 35,
   "metadata": {},
   "outputs": [],
   "source": [
    "all_tokens = [tknzr.tokenize(t) for t in tweets]"
   ]
  },
  {
   "cell_type": "markdown",
   "metadata": {},
   "source": [
    "creates two arrays for each of the tokenized sentences in tweets "
   ]
  },
  {
   "cell_type": "code",
   "execution_count": 36,
   "metadata": {},
   "outputs": [
    {
     "data": {
      "text/plain": [
       "[['This',\n",
       "  'is',\n",
       "  'the',\n",
       "  'best',\n",
       "  '#nlp',\n",
       "  'exercise',\n",
       "  'ive',\n",
       "  'found',\n",
       "  'online',\n",
       "  '!',\n",
       "  '#python'],\n",
       " ['#NLP', 'is', 'super', 'fun', '!', '<3', '#learning'],\n",
       " ['Thanks', '@datacamp', ':)', '#nlp', '#python']]"
      ]
     },
     "execution_count": 36,
     "metadata": {},
     "output_type": "execute_result"
    }
   ],
   "source": [
    "all_tokens"
   ]
  },
  {
   "cell_type": "markdown",
   "metadata": {},
   "source": [
    "## Emoji and Non-Ascii Tokenization"
   ]
  },
  {
   "cell_type": "code",
   "execution_count": 37,
   "metadata": {},
   "outputs": [],
   "source": [
    "german_text = 'Wann gehen wir Pizza essen? 🍕 Und fährst du mit Über? 🚕'"
   ]
  },
  {
   "cell_type": "code",
   "execution_count": 38,
   "metadata": {},
   "outputs": [
    {
     "name": "stdout",
     "output_type": "stream",
     "text": [
      "['Wann', 'gehen', 'wir', 'Pizza', 'essen', '?', '🍕', 'Und', 'fährst', 'du', 'mit', 'Über', '?', '🚕']\n"
     ]
    }
   ],
   "source": [
    "all_words = word_tokenize(german_text)\n",
    "print(all_words)"
   ]
  },
  {
   "cell_type": "code",
   "execution_count": 39,
   "metadata": {},
   "outputs": [
    {
     "name": "stdout",
     "output_type": "stream",
     "text": [
      "['Wann', 'Pizza', 'Und', 'Über']\n"
     ]
    }
   ],
   "source": [
    "# Tokenize and print only capital words\n",
    "capital_words = r\"[A-ZÜ]\\w+\"\n",
    "print(regexp_tokenize(german_text, capital_words))"
   ]
  },
  {
   "cell_type": "code",
   "execution_count": 40,
   "metadata": {},
   "outputs": [
    {
     "name": "stdout",
     "output_type": "stream",
     "text": [
      "['🍕', '🚕']\n"
     ]
    }
   ],
   "source": [
    "# Tokenize and print only emoji\n",
    "emoji = \"['\\U0001F300-\\U0001F5FF'|'\\U0001F600-\\U0001F64F'|'\\U0001F680-\\U0001F6FF'|'\\u2600-\\u26FF\\u2700-\\u27BF']\"\n",
    "print(regexp_tokenize(german_text, emoji))"
   ]
  },
  {
   "cell_type": "markdown",
   "metadata": {},
   "source": [
    "# Bag of Words "
   ]
  },
  {
   "cell_type": "code",
   "execution_count": 41,
   "metadata": {},
   "outputs": [],
   "source": [
    "article = \"As long as you can keep your left hand in the center you can defend against anything. When someone is inviting you to attack, look at their left hand. If the left hand is in the middle, beware. If the left hand out of the middle, then there's an opening to attack.  Doesn't matter what they do with the shinai, as long as you maintain your left hand in the center. Old kendo means that you don't resist a push, you move with the movement, and keep the left hand in center. If someone pushes your shinai, let them. And come around back to center and hit.\""
   ]
  },
  {
   "cell_type": "code",
   "execution_count": 42,
   "metadata": {},
   "outputs": [],
   "source": [
    "from collections import Counter"
   ]
  },
  {
   "cell_type": "code",
   "execution_count": 43,
   "metadata": {},
   "outputs": [],
   "source": [
    "# Tokenize the article: tokens\n",
    "tokens = word_tokenize(article)"
   ]
  },
  {
   "cell_type": "code",
   "execution_count": 44,
   "metadata": {},
   "outputs": [],
   "source": [
    "# Convert the tokens into lowercase: lower_tokens\n",
    "lower_tokens = [t.lower() for t in tokens]"
   ]
  },
  {
   "cell_type": "code",
   "execution_count": 45,
   "metadata": {},
   "outputs": [],
   "source": [
    "bow_simple = Counter(lower_tokens)"
   ]
  },
  {
   "cell_type": "code",
   "execution_count": 46,
   "metadata": {},
   "outputs": [
    {
     "name": "stdout",
     "output_type": "stream",
     "text": [
      "[('the', 9), ('.', 8), (',', 7), ('you', 6), ('left', 6), ('hand', 6), ('as', 4), ('in', 4), ('center', 4), ('your', 3)]\n"
     ]
    }
   ],
   "source": [
    "# Print the 10 most common tokens\n",
    "print(bow_simple.most_common(10))"
   ]
  },
  {
   "cell_type": "markdown",
   "metadata": {},
   "source": [
    "## Preprocessing"
   ]
  },
  {
   "cell_type": "code",
   "execution_count": 47,
   "metadata": {},
   "outputs": [],
   "source": [
    "# Import WordNetLemmatizer\n",
    "from nltk.stem import WordNetLemmatizer"
   ]
  },
  {
   "cell_type": "code",
   "execution_count": 48,
   "metadata": {},
   "outputs": [],
   "source": [
    "#limits to only alphabetical characters\n",
    "alpha_only = [t for t in lower_tokens if t.isalpha()]"
   ]
  },
  {
   "cell_type": "code",
   "execution_count": 49,
   "metadata": {},
   "outputs": [
    {
     "data": {
      "text/plain": [
       "['as',\n",
       " 'long',\n",
       " 'as',\n",
       " 'you',\n",
       " 'can',\n",
       " 'keep',\n",
       " 'your',\n",
       " 'left',\n",
       " 'hand',\n",
       " 'in',\n",
       " 'the',\n",
       " 'center',\n",
       " 'you',\n",
       " 'can',\n",
       " 'defend',\n",
       " 'against',\n",
       " 'anything',\n",
       " 'when',\n",
       " 'someone',\n",
       " 'is',\n",
       " 'inviting',\n",
       " 'you',\n",
       " 'to',\n",
       " 'attack',\n",
       " 'look',\n",
       " 'at',\n",
       " 'their',\n",
       " 'left',\n",
       " 'hand',\n",
       " 'if',\n",
       " 'the',\n",
       " 'left',\n",
       " 'hand',\n",
       " 'is',\n",
       " 'in',\n",
       " 'the',\n",
       " 'middle',\n",
       " 'beware',\n",
       " 'if',\n",
       " 'the',\n",
       " 'left',\n",
       " 'hand',\n",
       " 'out',\n",
       " 'of',\n",
       " 'the',\n",
       " 'middle',\n",
       " 'then',\n",
       " 'there',\n",
       " 'an',\n",
       " 'opening',\n",
       " 'to',\n",
       " 'attack',\n",
       " 'does',\n",
       " 'matter',\n",
       " 'what',\n",
       " 'they',\n",
       " 'do',\n",
       " 'with',\n",
       " 'the',\n",
       " 'shinai',\n",
       " 'as',\n",
       " 'long',\n",
       " 'as',\n",
       " 'you',\n",
       " 'maintain',\n",
       " 'your',\n",
       " 'left',\n",
       " 'hand',\n",
       " 'in',\n",
       " 'the',\n",
       " 'center',\n",
       " 'old',\n",
       " 'kendo',\n",
       " 'means',\n",
       " 'that',\n",
       " 'you',\n",
       " 'do',\n",
       " 'resist',\n",
       " 'a',\n",
       " 'push',\n",
       " 'you',\n",
       " 'move',\n",
       " 'with',\n",
       " 'the',\n",
       " 'movement',\n",
       " 'and',\n",
       " 'keep',\n",
       " 'the',\n",
       " 'left',\n",
       " 'hand',\n",
       " 'in',\n",
       " 'center',\n",
       " 'if',\n",
       " 'someone',\n",
       " 'pushes',\n",
       " 'your',\n",
       " 'shinai',\n",
       " 'let',\n",
       " 'them',\n",
       " 'and',\n",
       " 'come',\n",
       " 'around',\n",
       " 'back',\n",
       " 'to',\n",
       " 'center',\n",
       " 'and',\n",
       " 'hit']"
      ]
     },
     "execution_count": 49,
     "metadata": {},
     "output_type": "execute_result"
    }
   ],
   "source": [
    "alpha_only"
   ]
  },
  {
   "cell_type": "code",
   "execution_count": 50,
   "metadata": {},
   "outputs": [
    {
     "name": "stderr",
     "output_type": "stream",
     "text": [
      "[nltk_data] Downloading package stopwords to\n",
      "[nltk_data]     C:\\Users\\blasa\\AppData\\Roaming\\nltk_data...\n",
      "[nltk_data]   Package stopwords is already up-to-date!\n"
     ]
    },
    {
     "data": {
      "text/plain": [
       "True"
      ]
     },
     "execution_count": 50,
     "metadata": {},
     "output_type": "execute_result"
    }
   ],
   "source": [
    "from nltk.corpus import stopwords\n",
    "nltk.download('stopwords')"
   ]
  },
  {
   "cell_type": "code",
   "execution_count": 51,
   "metadata": {},
   "outputs": [
    {
     "name": "stderr",
     "output_type": "stream",
     "text": [
      "[nltk_data] Downloading package wordnet to\n",
      "[nltk_data]     C:\\Users\\blasa\\AppData\\Roaming\\nltk_data...\n",
      "[nltk_data]   Package wordnet is already up-to-date!\n"
     ]
    },
    {
     "data": {
      "text/plain": [
       "True"
      ]
     },
     "execution_count": 51,
     "metadata": {},
     "output_type": "execute_result"
    }
   ],
   "source": [
    "nltk.download('wordnet')"
   ]
  },
  {
   "cell_type": "code",
   "execution_count": 52,
   "metadata": {},
   "outputs": [],
   "source": [
    "english_stops = set(stopwords.words('english'))"
   ]
  },
  {
   "cell_type": "code",
   "execution_count": 53,
   "metadata": {},
   "outputs": [],
   "source": [
    "no_stops = [t for t in alpha_only if t not in english_stops]"
   ]
  },
  {
   "cell_type": "code",
   "execution_count": 54,
   "metadata": {},
   "outputs": [
    {
     "data": {
      "text/plain": [
       "['long',\n",
       " 'keep',\n",
       " 'left',\n",
       " 'hand',\n",
       " 'center',\n",
       " 'defend',\n",
       " 'anything',\n",
       " 'someone',\n",
       " 'inviting',\n",
       " 'attack',\n",
       " 'look',\n",
       " 'left',\n",
       " 'hand',\n",
       " 'left',\n",
       " 'hand',\n",
       " 'middle',\n",
       " 'beware',\n",
       " 'left',\n",
       " 'hand',\n",
       " 'middle',\n",
       " 'opening',\n",
       " 'attack',\n",
       " 'matter',\n",
       " 'shinai',\n",
       " 'long',\n",
       " 'maintain',\n",
       " 'left',\n",
       " 'hand',\n",
       " 'center',\n",
       " 'old',\n",
       " 'kendo',\n",
       " 'means',\n",
       " 'resist',\n",
       " 'push',\n",
       " 'move',\n",
       " 'movement',\n",
       " 'keep',\n",
       " 'left',\n",
       " 'hand',\n",
       " 'center',\n",
       " 'someone',\n",
       " 'pushes',\n",
       " 'shinai',\n",
       " 'let',\n",
       " 'come',\n",
       " 'around',\n",
       " 'back',\n",
       " 'center',\n",
       " 'hit']"
      ]
     },
     "execution_count": 54,
     "metadata": {},
     "output_type": "execute_result"
    }
   ],
   "source": [
    "no_stops"
   ]
  },
  {
   "cell_type": "code",
   "execution_count": 55,
   "metadata": {},
   "outputs": [],
   "source": [
    "wordnet_lemmatizer = WordNetLemmatizer()"
   ]
  },
  {
   "cell_type": "code",
   "execution_count": 56,
   "metadata": {},
   "outputs": [],
   "source": [
    "# Lemmatize all tokens into a new list: lemmatized\n",
    "lemmatized = [wordnet_lemmatizer.lemmatize(t) for t in no_stops]\n",
    "\n",
    "# Create the bag-of-words: bow\n",
    "bow = Counter(lemmatized)"
   ]
  },
  {
   "cell_type": "markdown",
   "metadata": {},
   "source": [
    "Lemmatization is the process of grouping together the different inflected forms of a word so they can be analysed as a single item. Lemmatization is similar to stemming but it brings context to the words. So it links words with similar meaning to one word."
   ]
  },
  {
   "cell_type": "markdown",
   "metadata": {},
   "source": [
    "https://www.geeksforgeeks.org/python-lemmatization-with-nltk/"
   ]
  },
  {
   "cell_type": "code",
   "execution_count": 57,
   "metadata": {},
   "outputs": [
    {
     "data": {
      "text/plain": [
       "['long',\n",
       " 'keep',\n",
       " 'left',\n",
       " 'hand',\n",
       " 'center',\n",
       " 'defend',\n",
       " 'anything',\n",
       " 'someone',\n",
       " 'inviting',\n",
       " 'attack',\n",
       " 'look',\n",
       " 'left',\n",
       " 'hand',\n",
       " 'left',\n",
       " 'hand',\n",
       " 'middle',\n",
       " 'beware',\n",
       " 'left',\n",
       " 'hand',\n",
       " 'middle',\n",
       " 'opening',\n",
       " 'attack',\n",
       " 'matter',\n",
       " 'shinai',\n",
       " 'long',\n",
       " 'maintain',\n",
       " 'left',\n",
       " 'hand',\n",
       " 'center',\n",
       " 'old',\n",
       " 'kendo',\n",
       " 'mean',\n",
       " 'resist',\n",
       " 'push',\n",
       " 'move',\n",
       " 'movement',\n",
       " 'keep',\n",
       " 'left',\n",
       " 'hand',\n",
       " 'center',\n",
       " 'someone',\n",
       " 'push',\n",
       " 'shinai',\n",
       " 'let',\n",
       " 'come',\n",
       " 'around',\n",
       " 'back',\n",
       " 'center',\n",
       " 'hit']"
      ]
     },
     "execution_count": 57,
     "metadata": {},
     "output_type": "execute_result"
    }
   ],
   "source": [
    "lemmatized"
   ]
  },
  {
   "cell_type": "code",
   "execution_count": 58,
   "metadata": {},
   "outputs": [
    {
     "name": "stdout",
     "output_type": "stream",
     "text": [
      "[('left', 6), ('hand', 6), ('center', 4), ('long', 2), ('keep', 2), ('someone', 2), ('attack', 2), ('middle', 2), ('shinai', 2), ('push', 2)]\n"
     ]
    }
   ],
   "source": [
    "# Print the 10 most common tokens\n",
    "print(bow.most_common(10))"
   ]
  },
  {
   "cell_type": "markdown",
   "metadata": {},
   "source": [
    "# Gensim"
   ]
  },
  {
   "cell_type": "code",
   "execution_count": 59,
   "metadata": {},
   "outputs": [],
   "source": [
    "from gensim.corpora.dictionary import Dictionary"
   ]
  },
  {
   "cell_type": "code",
   "execution_count": 60,
   "metadata": {},
   "outputs": [],
   "source": [
    "# an string has to be tokeized first before it can be \n",
    "articles = [['uses',\n",
    "  'file',\n",
    "  'operating',\n",
    "  'system',\n",
    "  'placement',\n",
    "  'software',\n",
    "  '.svg|thumb|upright|a',\n",
    "  'diagram',\n",
    "  'showing',\n",
    "  'user',\n",
    "  'computing',\n",
    "  '|user',\n",
    "  'interacts',\n",
    "  'application',\n",
    "  'software',\n",
    "  'typical',\n",
    "  'desktop',\n",
    "  'computer.the',\n",
    "  'application',\n",
    "  'software',\n",
    "  'layer',\n",
    "  'interfaces',\n",
    "  'operating',\n",
    "  'system',\n",
    "  'turn',\n",
    "  'communicates',\n",
    "  'personal',\n",
    "  'computer',\n",
    "  'hardware|hardware',\n",
    "  'arrows',\n",
    "  'indicate',\n",
    "  'information',\n",
    "  'flow',\n",
    "  \"''\",\n",
    "  'computer',\n",
    "  'software',\n",
    "  \"''\",\n",
    "  'simply',\n",
    "  \"''\",\n",
    "  'software',\n",
    "  \"''\",\n",
    "  'part',\n",
    "  'computer',\n",
    "  'system',\n",
    "  'consists',\n",
    "  'data',\n",
    "  'computing',\n",
    "  '|data',\n",
    "  'computer',\n",
    "  'instructions',\n",
    "  'contrast',\n",
    "  'computer',\n",
    "  'hardware|physical',\n",
    "  'hardware',\n",
    "  'system',\n",
    "  'built',\n",
    "  'computer',\n",
    "  'science',\n",
    "  'software',\n",
    "  'engineering',\n",
    "  'computer',\n",
    "  'software',\n",
    "  'information',\n",
    "  'processed',\n",
    "  'computer',\n",
    "  'systems',\n",
    "  'computer',\n",
    "  'program|programs',\n",
    "  'data',\n",
    "  'computer',\n",
    "  'software',\n",
    "  'includes',\n",
    "  'computer',\n",
    "  'programs',\n",
    "  'library',\n",
    "  'computing',\n",
    "  '|libraries',\n",
    "  'related',\n",
    "  'non-executable',\n",
    "  'data',\n",
    "  'computing',\n",
    "  '|data',\n",
    "  'software',\n",
    "  'documentation|online',\n",
    "  'documentation',\n",
    "  'digital',\n",
    "  'media',\n",
    "  'computer',\n",
    "  'hardware',\n",
    "  'software',\n",
    "  'require',\n",
    "  'neither',\n",
    "  'realistically',\n",
    "  'used',\n",
    "  'lowest',\n",
    "  'level',\n",
    "  'executable',\n",
    "  'code',\n",
    "  'consists',\n",
    "  'machine',\n",
    "  'code|machine',\n",
    "  'language',\n",
    "  'instructions',\n",
    "  'specific',\n",
    "  'individual',\n",
    "  'microprocessor|processor—typically',\n",
    "  'central',\n",
    "  'processing',\n",
    "  'unit',\n",
    "  'cpu',\n",
    "  'machine',\n",
    "  'language',\n",
    "  'consists',\n",
    "  'groups',\n",
    "  'binary',\n",
    "  'numbers|binary',\n",
    "  'values',\n",
    "  'signifying',\n",
    "  'processor',\n",
    "  'instructions',\n",
    "  'change',\n",
    "  'state',\n",
    "  'computer',\n",
    "  'preceding',\n",
    "  'state',\n",
    "  'example',\n",
    "  'instruction',\n",
    "  'may',\n",
    "  'change',\n",
    "  'value',\n",
    "  'stored',\n",
    "  'particular',\n",
    "  'storage',\n",
    "  'location',\n",
    "  'computer—an',\n",
    "  'effect',\n",
    "  'directly',\n",
    "  'observable',\n",
    "  'user',\n",
    "  'instruction',\n",
    "  'may',\n",
    "  'also',\n",
    "  'indirectly',\n",
    "  'cause',\n",
    "  'something',\n",
    "  'appear',\n",
    "  'display',\n",
    "  'computer',\n",
    "  'system—a',\n",
    "  'state',\n",
    "  'change',\n",
    "  'visible',\n",
    "  'user',\n",
    "  'processor',\n",
    "  'carries',\n",
    "  'instructions',\n",
    "  'order',\n",
    "  'provided',\n",
    "  'unless',\n",
    "  'instructed',\n",
    "  'branch',\n",
    "  'instruction|',\n",
    "  \"''\",\n",
    "  'jump',\n",
    "  \"''\",\n",
    "  'different',\n",
    "  'instruction',\n",
    "  'interrupted',\n",
    "  'multi-core',\n",
    "  'processors',\n",
    "  'dominant',\n",
    "  'core',\n",
    "  'run',\n",
    "  'instructions',\n",
    "  'order',\n",
    "  'however',\n",
    "  'application',\n",
    "  'software',\n",
    "  'runs',\n",
    "  'one',\n",
    "  'core',\n",
    "  'default',\n",
    "  'software',\n",
    "  'made',\n",
    "  'run',\n",
    "  'many',\n",
    "  'majority',\n",
    "  'software',\n",
    "  'written',\n",
    "  'high-level',\n",
    "  'programming',\n",
    "  'languages',\n",
    "  'easier',\n",
    "  'efficient',\n",
    "  'programmers',\n",
    "  'meaning',\n",
    "  'closer',\n",
    "  'natural',\n",
    "  'language',\n",
    "  'cite',\n",
    "  'web|title=compiler',\n",
    "  'construction|url=http',\n",
    "  '//www.cs.uu.nl/education/vak.php',\n",
    "  'vak=infomcco',\n",
    "  'high-level',\n",
    "  'languages',\n",
    "  'translated',\n",
    "  'machine',\n",
    "  'language',\n",
    "  'using',\n",
    "  'compiler',\n",
    "  'interpreter',\n",
    "  'computing',\n",
    "  '|interpreter',\n",
    "  'combination',\n",
    "  'two',\n",
    "  'software',\n",
    "  'may',\n",
    "  'also',\n",
    "  'written',\n",
    "  'low-level',\n",
    "  'assembly',\n",
    "  'language',\n",
    "  'essentially',\n",
    "  'vaguely',\n",
    "  'mnemonic',\n",
    "  'representation',\n",
    "  'machine',\n",
    "  'language',\n",
    "  'using',\n",
    "  'natural',\n",
    "  'language',\n",
    "  'alphabet',\n",
    "  'translated',\n",
    "  'machine',\n",
    "  'language',\n",
    "  'using',\n",
    "  'assembly',\n",
    "  'language|assembler',\n",
    "  'history',\n",
    "  'main',\n",
    "  'article|history',\n",
    "  'software',\n",
    "  'outline',\n",
    "  'algorithm',\n",
    "  'would',\n",
    "  'first',\n",
    "  'piece',\n",
    "  'software',\n",
    "  'written',\n",
    "  'ada',\n",
    "  'lovelace',\n",
    "  '19th',\n",
    "  'century',\n",
    "  'planned',\n",
    "  'analytical',\n",
    "  'engine',\n",
    "  'however',\n",
    "  'neither',\n",
    "  'analytical',\n",
    "  'engine',\n",
    "  'software',\n",
    "  'ever',\n",
    "  'created',\n",
    "  'first',\n",
    "  'theory',\n",
    "  'software—prior',\n",
    "  'creation',\n",
    "  'computers',\n",
    "  'know',\n",
    "  'today—was',\n",
    "  'proposed',\n",
    "  'alan',\n",
    "  'turing',\n",
    "  '1935',\n",
    "  'essay',\n",
    "  \"''computable\",\n",
    "  'numbers',\n",
    "  'application',\n",
    "  'entscheidungsproblem',\n",
    "  \"''\",\n",
    "  'decision',\n",
    "  'problem',\n",
    "  'eventually',\n",
    "  'led',\n",
    "  'creation',\n",
    "  'twin',\n",
    "  'academic',\n",
    "  'fields',\n",
    "  'computer',\n",
    "  'science',\n",
    "  'software',\n",
    "  'engineering',\n",
    "  'study',\n",
    "  'software',\n",
    "  'creation',\n",
    "  'computer',\n",
    "  'science',\n",
    "  'theoretical',\n",
    "  'turing',\n",
    "  \"'s\",\n",
    "  'essay',\n",
    "  'example',\n",
    "  'computer',\n",
    "  'science',\n",
    "  'software',\n",
    "  'engineering',\n",
    "  'focuses',\n",
    "  'practical',\n",
    "  'concerns',\n",
    "  'however',\n",
    "  'prior',\n",
    "  '1946',\n",
    "  'software',\n",
    "  'understand',\n",
    "  'it—programs',\n",
    "  'stored',\n",
    "  'memory',\n",
    "  'stored-program',\n",
    "  'digital',\n",
    "  'computers—did',\n",
    "  'yet',\n",
    "  'exist',\n",
    "  'first',\n",
    "  'electronic',\n",
    "  'computing',\n",
    "  'devices',\n",
    "  'instead',\n",
    "  'rewired',\n",
    "  'order']]"
   ]
  },
  {
   "cell_type": "code",
   "execution_count": 61,
   "metadata": {},
   "outputs": [],
   "source": [
    "dictionary = Dictionary(articles)"
   ]
  },
  {
   "cell_type": "code",
   "execution_count": 62,
   "metadata": {},
   "outputs": [],
   "source": [
    "# Select the id for \"computer\": computer_id\n",
    "computer_id = dictionary.token2id.get(\"computer\")"
   ]
  },
  {
   "cell_type": "code",
   "execution_count": 63,
   "metadata": {},
   "outputs": [
    {
     "name": "stdout",
     "output_type": "stream",
     "text": [
      "computer\n"
     ]
    }
   ],
   "source": [
    "# Use computer_id with the dictionary to print the word\n",
    "print(dictionary.get(computer_id))\n"
   ]
  },
  {
   "cell_type": "code",
   "execution_count": 64,
   "metadata": {},
   "outputs": [],
   "source": [
    "# Create a MmCorpus: corpus\n",
    "corpus = [dictionary.doc2bow(article) for article in articles]"
   ]
  },
  {
   "cell_type": "code",
   "execution_count": 71,
   "metadata": {},
   "outputs": [
    {
     "name": "stdout",
     "output_type": "stream",
     "text": [
      "[(0, 7), (1, 1), (2, 1), (3, 1), (4, 1)]\n"
     ]
    }
   ],
   "source": [
    "print(corpus[0][:5])"
   ]
  },
  {
   "cell_type": "markdown",
   "metadata": {},
   "source": [
    "## Gensim Bag of Words"
   ]
  },
  {
   "cell_type": "markdown",
   "metadata": {},
   "source": [
    "Now, you'll use your new gensim corpus and dictionary to see the most common terms per document and across all documents. You can use your dictionary to look up the terms."
   ]
  },
  {
   "cell_type": "code",
   "execution_count": 76,
   "metadata": {},
   "outputs": [],
   "source": [
    "from collections import defaultdict\n",
    "import itertools"
   ]
  },
  {
   "cell_type": "code",
   "execution_count": 77,
   "metadata": {},
   "outputs": [
    {
     "name": "stdout",
     "output_type": "stream",
     "text": [
      "software 21\n",
      "computer 17\n",
      "language 8\n",
      "'' 7\n",
      "computing 6\n"
     ]
    }
   ],
   "source": [
    "# Save the fifth document: doc\n",
    "doc = corpus[0]\n",
    "\n",
    "# Sort the doc for frequency: bow_doc\n",
    "bow_doc = sorted(doc, key=lambda w: w[1], reverse=True)\n",
    "\n",
    "# Print the top 5 words of the document alongside the count\n",
    "for word_id, word_count in bow_doc[:5]:\n",
    "    print(dictionary.get(word_id), word_count)\n",
    "    \n",
    "# Create the defaultdict: total_word_count\n",
    "total_word_count = defaultdict(int)\n",
    "for word_id, word_count in itertools.chain.from_iterable(corpus):\n",
    "    total_word_count[word_id] += word_count"
   ]
  },
  {
   "cell_type": "markdown",
   "metadata": {},
   "source": [
    "Now, you'll use your new gensim corpus and dictionary to see the most common terms per document and across all documents. You can use your dictionary to look up the terms. "
   ]
  },
  {
   "cell_type": "code",
   "execution_count": 79,
   "metadata": {},
   "outputs": [],
   "source": [
    "# Save the fifth document: doc\n",
    "doc = corpus[0]"
   ]
  },
  {
   "cell_type": "code",
   "execution_count": 80,
   "metadata": {},
   "outputs": [],
   "source": [
    "# Sort the doc for frequency: bow_doc\n",
    "bow_doc = sorted(doc, key=lambda w: w[1], reverse=True)"
   ]
  },
  {
   "cell_type": "code",
   "execution_count": 81,
   "metadata": {},
   "outputs": [
    {
     "name": "stdout",
     "output_type": "stream",
     "text": [
      "software 21\n",
      "computer 17\n",
      "language 8\n",
      "'' 7\n",
      "computing 6\n"
     ]
    }
   ],
   "source": [
    "# Print the top 5 words of the document alongside the count\n",
    "for word_id, word_count in bow_doc[:5]:\n",
    "    print(dictionary.get(word_id), word_count)"
   ]
  },
  {
   "cell_type": "markdown",
   "metadata": {},
   "source": [
    "\n",
    "\n",
    "    defaultdict allows us to initialize a dictionary that will assign a default value to non-existent keys. By supplying the argument int, we are able to ensure that any non-existent keys are automatically assigned a default value of 0. This makes it ideal for storing the counts of words in this exercise.\n",
    "\n",
    "    itertools.chain.from_iterable() allows us to iterate through a set of sequences as if they were one continuous sequence. Using this function, we can easily iterate through our corpus object (which is a list of lists).\n"
   ]
  },
  {
   "cell_type": "code",
   "execution_count": 82,
   "metadata": {},
   "outputs": [],
   "source": [
    "# Create the defaultdict: total_word_count\n",
    "total_word_count = defaultdict(int)\n",
    "for word_id, word_count in itertools.chain.from_iterable(corpus):\n",
    "    total_word_count[word_id] += word_count"
   ]
  },
  {
   "cell_type": "code",
   "execution_count": 83,
   "metadata": {},
   "outputs": [],
   "source": [
    "# Create a sorted list from the defaultdict: sorted_word_count \n",
    "sorted_word_count = sorted(total_word_count.items(), key=lambda w: w[1], reverse=True) "
   ]
  },
  {
   "cell_type": "code",
   "execution_count": 84,
   "metadata": {},
   "outputs": [
    {
     "name": "stdout",
     "output_type": "stream",
     "text": [
      "software 21\n",
      "computer 17\n",
      "language 8\n",
      "'' 7\n",
      "computing 6\n"
     ]
    }
   ],
   "source": [
    "# Print the top 5 words across all documents alongside the count\n",
    "for word_id, word_count in sorted_word_count[:5]:\n",
    "    print(dictionary.get(word_id), word_count)"
   ]
  },
  {
   "cell_type": "markdown",
   "metadata": {},
   "source": [
    "# Term-Frequency and Inverse-Document-Frequency "
   ]
  },
  {
   "cell_type": "markdown",
   "metadata": {},
   "source": [
    "**Tf-idf** stands for term-frequncy - inverse document frequency. It is a commonly used natural language processing model that helps you determine the most important words in each document in the corpus. The idea behind tf-idf is that each corpus might have more shared words than just stopwords. These common words are like stopwords and should be removed or at least down-weighted in importance."
   ]
  },
  {
   "cell_type": "markdown",
   "metadata": {},
   "source": [
    "This accounts for shared words beyond stopwords, which are downweighted in importantance. This means that we account for stopwords, but downweight common words that have nothing to do with analysis. "
   ]
  },
  {
   "cell_type": "markdown",
   "metadata": {},
   "source": []
  },
  {
   "cell_type": "code",
   "execution_count": 88,
   "metadata": {},
   "outputs": [
    {
     "data": {
      "image/png": "[encoded data removed]",
      "text/plain": [
       "<Figure size 432x288 with 1 Axes>"
      ]
     },
     "metadata": {
      "needs_background": "light"
     },
     "output_type": "display_data"
    }
   ],
   "source": [
    "import matplotlib.pyplot as plt\n",
    "import matplotlib.image as mpimg\n",
    "image = mpimg.imread(r\"C:\\Users\\blasa\\Pictures\\Capture.png\")\n",
    "plt.imshow(image)\n",
    "plt.show()"
   ]
  },
  {
   "cell_type": "code",
   "execution_count": null,
   "metadata": {},
   "outputs": [],
   "source": []
  }
 ],
 "metadata": {
  "kernelspec": {
   "display_name": "Python 3",
   "language": "python",
   "name": "python3"
  },
  "language_info": {
   "codemirror_mode": {
    "name": "ipython",
    "version": 3
   },
   "file_extension": ".py",
   "mimetype": "text/x-python",
   "name": "python",
   "nbconvert_exporter": "python",
   "pygments_lexer": "ipython3",
   "version": "3.8.5"
  }
 },
 "nbformat": 4,
 "nbformat_minor": 4
}
